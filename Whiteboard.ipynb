{
 "cells": [
  {
   "cell_type": "code",
   "execution_count": null,
   "id": "ac1506e5",
   "metadata": {},
   "outputs": [],
   "source": [
    "Complete the solution so that the function will break up camel casing, using a space between words.\n",
    "\n",
    "\"camelCasing\"  =>  \"camel Casing\"\n",
    "\"identifier\"   =>  \"identifier\"\n",
    "\"\"             =>  \"\""
   ]
  },
  {
   "cell_type": "code",
   "execution_count": 22,
   "id": "6b8d3351",
   "metadata": {},
   "outputs": [
    {
     "name": "stdout",
     "output_type": "stream",
     "text": [
      "coding Temple\n"
     ]
    }
   ],
   "source": [
    "def break_up(word):\n",
    "    newstring = \"\"\n",
    "    for let in word:\n",
    "        if let.isupper():\n",
    "            newstring += \" \"\n",
    "        newstring += let\n",
    "    return (newstring)\n",
    "print(break_up(\"codingTemple\"))"
   ]
  },
  {
   "cell_type": "code",
   "execution_count": 10,
   "id": "c009ffb1",
   "metadata": {},
   "outputs": [
    {
     "name": "stdout",
     "output_type": "stream",
     "text": [
      "camel Casing\n",
      "identifier\n",
      "coding Temple\n"
     ]
    }
   ],
   "source": [
    "def split_it(strr):\n",
    "    new_string = ''\n",
    "    for s in strr:\n",
    "        if s.isupper():\n",
    "            new_string += \" \"\n",
    "        new_string += s\n",
    "    return (new_string)\n",
    "print(split_it(\"camelCasing\"))\n",
    "print(split_it(\"identifier\"))\n",
    "print(split_it(\"codingTemple\"))"
   ]
  }
 ],
 "metadata": {
  "kernelspec": {
   "display_name": "Python 3",
   "language": "python",
   "name": "python3"
  },
  "language_info": {
   "codemirror_mode": {
    "name": "ipython",
    "version": 3
   },
   "file_extension": ".py",
   "mimetype": "text/x-python",
   "name": "python",
   "nbconvert_exporter": "python",
   "pygments_lexer": "ipython3",
   "version": "3.8.8"
  }
 },
 "nbformat": 4,
 "nbformat_minor": 5
}
